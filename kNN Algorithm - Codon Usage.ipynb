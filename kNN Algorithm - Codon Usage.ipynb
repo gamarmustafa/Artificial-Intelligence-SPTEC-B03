{
 "cells": [
  {
   "cell_type": "code",
   "execution_count": 2,
   "id": "21b77ef4",
   "metadata": {},
   "outputs": [
    {
     "name": "stdout",
     "output_type": "stream",
     "text": [
      "accuracy:  0.4305555555555556\n",
      "confusion matrix:\n",
      " [[17  1  0  0  1  2]\n",
      " [10  0  0  1  0  1]\n",
      " [ 4  1  7  0  0  0]\n",
      " [ 6  2  0  1  0  1]\n",
      " [10  0  0  0  1  1]\n",
      " [ 0  0  0  0  0  5]]\n"
     ]
    }
   ],
   "source": [
    "import numpy as np\n",
    "import pandas as pd\n",
    "from sklearn.model_selection import train_test_split\n",
    "from sklearn.preprocessing import StandardScaler\n",
    "from sklearn.linear_model import LogisticRegression\n",
    "from sklearn.pipeline import Pipeline\n",
    "from sklearn.metrics import roc_curve, roc_auc_score, classification_report, accuracy_score, confusion_matrix \n",
    "import seaborn as sns\n",
    "import matplotlib.pyplot as plt\n",
    "import warnings \n",
    "warnings.filterwarnings('ignore')\n",
    "\n",
    "data = pd.read_csv('dermatology.data')\n",
    "\n",
    "data.drop(data.columns[[0,1,2,3,4,5,6,7,8,9,10,12,13,14,15,16,17,18,19,20,\n",
    "                       21,22,23,24,25,26,27,28,29,30,31,]], axis=1, inplace=True)\n",
    "\n",
    "data.rename(columns = {'0.7':'melanin incontinence','0.24':'band-like infiltrate','55':'age','2.3':'target',}, inplace = True)\n",
    "\n",
    "data.drop(data[data['age'] == '?'].index, inplace = True)\n",
    "data['age'] = data['age'].astype(float)\n",
    "\n",
    "x = data.iloc[:,0:3]\n",
    "y = data.iloc[:,-1]\n",
    "\n",
    "\n",
    "\n",
    "from sklearn.model_selection import train_test_split\n",
    "X_train, X_test, y_train, y_test = train_test_split(x, y, test_size = 0.20, random_state = 0)\n",
    "\n",
    "from sklearn.neighbors import KNeighborsClassifier\n",
    "classifier = KNeighborsClassifier(n_neighbors = 7, metric = 'minkowski', p = 2)\n",
    "classifier.fit(X_train, y_train)\n",
    "\n",
    "y_pred = classifier.predict(X_test)\n",
    "from sklearn.metrics import accuracy_score\n",
    "ac = accuracy_score(y_test,y_pred)\n",
    "print('accuracy: ',ac)\n",
    "\n",
    "from sklearn.metrics import confusion_matrix\n",
    "\n",
    "cf_matrix = confusion_matrix(y_test, y_pred)\n",
    "\n",
    "print('confusion matrix:\\n',cf_matrix)\n"
   ]
  }
 ],
 "metadata": {
  "kernelspec": {
   "display_name": "Python 3 (ipykernel)",
   "language": "python",
   "name": "python3"
  },
  "language_info": {
   "codemirror_mode": {
    "name": "ipython",
    "version": 3
   },
   "file_extension": ".py",
   "mimetype": "text/x-python",
   "name": "python",
   "nbconvert_exporter": "python",
   "pygments_lexer": "ipython3",
   "version": "3.9.7"
  }
 },
 "nbformat": 4,
 "nbformat_minor": 5
}
